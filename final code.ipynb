{
 "cells": [
  {
   "cell_type": "code",
   "execution_count": 1,
   "metadata": {},
   "outputs": [],
   "source": [
    "import pandas as pd\n",
    "import datetime"
   ]
  },
  {
   "cell_type": "markdown",
   "metadata": {},
   "source": [
    "# Data Wrangling"
   ]
  },
  {
   "cell_type": "markdown",
   "metadata": {},
   "source": [
    "### read data"
   ]
  },
  {
   "cell_type": "code",
   "execution_count": null,
   "metadata": {},
   "outputs": [],
   "source": [
    "import datetime\n",
    "import pandas as pd\n",
    "data = pd.read_csv('/Users/zhuyao/Google Drive/2021 summer/STAA 556/project proposal/SNAP-Ratebeer.txt'\n",
    "            \t, sep='\\n',encoding = 'ISO-8859-1', header=None)\n",
    "data.columns = ['data%s'%i for i in range(1, data.shape[1]+1)]\n",
    "data['data1'] = data['data1'].str.split(':')\n",
    "data['title'] = data['data1'].map(lambda x: x[0])\n",
    "data['context'] = data['data1'].map(lambda x: x[1])\n",
    "data = data.drop(['data1'], axis = 1)\n"
   ]
  },
  {
   "cell_type": "markdown",
   "metadata": {},
   "source": [
    "### Transform from raw to column"
   ]
  },
  {
   "cell_type": "code",
   "execution_count": null,
   "metadata": {},
   "outputs": [],
   "source": [
    "data = data.T\n",
    "data.reset_index(drop = True, inplace = True)\n",
    "new_header = data.iloc[0]   #grab the first row for the header\n",
    "data = data[1:]                  \t#take the data less the header row\n",
    "data.columns = new_header  #set the header row as the df header\n"
   ]
  },
  {
   "cell_type": "markdown",
   "metadata": {},
   "source": [
    "### group by 13"
   ]
  },
  {
   "cell_type": "code",
   "execution_count": null,
   "metadata": {},
   "outputs": [],
   "source": [
    "new_data = data.iloc[0:1,0:13]\n",
    "for i in range(13, data.shape[1], 13):\n",
    "\tdataset = data.iloc[0:1, i:i+13]\n",
    "new_data = pd.concat([new_data, dataset], axis=0)\n"
   ]
  },
  {
   "cell_type": "markdown",
   "metadata": {},
   "source": [
    "### Transform time (only take year)"
   ]
  },
  {
   "cell_type": "code",
   "execution_count": null,
   "metadata": {},
   "outputs": [],
   "source": [
    "import time\n",
    "train_data = new_data\n",
    "newtime = train_data['review/time'][0:-1].apply(lambda t : time.strftime(\"%Y-%m-%d %H:%M:%S\",(time.localtime(int(t)))))\n",
    "year = train_data['review/time'][0:-1].apply(lambda t : time.strftime(\"%Y\",(time.localtime(int(t)))))\n",
    "train_data['year'] = year\n"
   ]
  },
  {
   "cell_type": "markdown",
   "metadata": {},
   "source": [
    "### Deal missing values and transform datatype"
   ]
  },
  {
   "cell_type": "code",
   "execution_count": null,
   "metadata": {},
   "outputs": [],
   "source": [
    "train_data = train_data[train_data['beer/ABV'] != ' -']\n",
    "train_data = train_data.reset_index(drop = True)\n",
    "TD =\n",
    "train_data[['beer/ABV','review/appearance','review/aroma','review/palate','review/taste','review/overall']]\n",
    "TD = TD[0:-1]\n",
    "TD['review/appearance'] = TD['review/appearance'].str.split('/',expand = True)[0].astype('category')\n",
    "TD['review/aroma'] = TD['review/aroma'].str.split('/',expand = True)[0].astype('category')\n",
    "TD['review/palate'] = TD['review/palate'].str.split('/',expand = True)[0].astype('category')\n",
    "TD['review/taste'] = TD['review/taste'].str.split('/',expand = True)[0].astype('category')\n",
    "TD['review/overall'] = TD['review/overall'].str.split('/',expand = True)[0].astype('int')/2\n"
   ]
  },
  {
   "cell_type": "markdown",
   "metadata": {},
   "source": [
    "### Group 88 styles into 17 categories"
   ]
  },
  {
   "cell_type": "code",
   "execution_count": null,
   "metadata": {},
   "outputs": [],
   "source": [
    "train_data['beer/category'] = 0\n",
    "train_data['beer/style'] = train_data['beer/style'].str.lower()\n",
    "#1\n",
    "for i in range(0,train_data.shape[0]):\n",
    "\tif \"lager\" in train_data['beer/style'][i] or \"vienna\" in train_data['beer/style'][i] or \"california\" in train_data['beer/style'][i]:\n",
    "    \ttrain_data['beer/category'].iloc[i] = 1\n",
    "#2\n",
    "for i in range(0,train_data.shape[0]):\n",
    "\tif \"pilse\" in train_data['beer/style'][i] or \"dortmunder\" in train_data['beer/style'][i]:\n",
    "    \ttrain_data['beer/category'].iloc[i] = 2\n",
    "#3\n",
    "for i in range(0,train_data.shape[0]):\n",
    "\tif \"golden ale\" in train_data['beer/style'][i] or \"spice\" in train_data['beer/style'][i] or \"scotch\" in train_data['beer/style'][i] or \"scottish\" in train_data['beer/style'][i]:\n",
    "    \ttrain_data['beer/category'].iloc[i] = 3\n",
    "\telif \"de garde\" in train_data['beer/style'][i] or \"mild ale\" in train_data['beer/style'][i] or \"cream ale\" in train_data['beer/style'][i] or \"saison\" in train_data['beer/style'][i] or \"sak\" in train_data['beer/style'][i]:\n",
    "    \ttrain_data['beer/category'].iloc[i] = 3\n",
    "#4\n",
    "for i in range(0,train_data.shape[0]):\n",
    "\tif (\"bock\") in train_data['beer/style'][i]:\n",
    "    \ttrain_data['beer/category'].iloc[i] = 4\n",
    "#5\n",
    "for i in range(0,train_data.shape[0]):\n",
    "    if (\"belgian ale\") in train_data['beer/style'][i]:\n",
    "    \ttrain_data['beer/category'].iloc[i] = 5\n",
    "#6\n",
    "for i in range(0,train_data.shape[0]):\n",
    "\tif \"wit\" in train_data['beer/style'][i] or \"abbey dubbel\" in train_data['beer/style'][i] or \"lsch\" in train_data['beer/style'][i] or \"abbey tripel\" in train_data['beer/style'][i]:\n",
    "    \ttrain_data['beer/category'].iloc[i] = 6\n",
    "#7\n",
    "for i in range(0,train_data.shape[0]):\n",
    "\tif \"wheat ale\" in train_data['beer/style'][i] or \"german hefeweizen\" in train_data['beer/style'][i] or \"zwickel\" in train_data['beer/style'][i] or \"malt\" in train_data['beer/style'][i] or \"low alcohol\" in train_data['beer/style'][i] or \"specialty grain\" in train_data['beer/style'][i] or \"altbier\" in train_data['beer/style'][i] or \"german kristallweizen\" in train_data['beer/style'][i] or \"berliner weisse\" in train_data['beer/style'][i]:\n",
    "    \ttrain_data['beer/category'].iloc[i] = 7\n",
    "#8\n",
    "for i in range(0,train_data.shape[0]):\n",
    "\tif \"schwarzbier\" in train_data['beer/style'][i] or \"oktoberfest\" in train_data['beer/style'][i] or \"dunkel\" in train_data['beer/style'][i] or \"smoked\" in train_data['beer/style'][i]:\n",
    "    \ttrain_data['beer/category'].iloc[i] = 8\n",
    "#9\n",
    "for i in range(0,train_data.shape[0]):\n",
    "    if \"fruit\" in train_data['beer/style'][i] or \"lambic\" in train_data['beer/style'][i] or \"sour\" in train_data['beer/style'][i] or \"mead\" in train_data['beer/style'][i] or \"cider\" in train_data['beer/style'][i] or \"perry\" in train_data['beer/style'][i]:\n",
    "    \ttrain_data['beer/category'].iloc[i] = 9\n",
    "#10\n",
    "for i in range(0,train_data.shape[0]):\n",
    "\tif \"belgian strong ale\" in train_data['beer/style'][i] or \"american strong ale\" in train_data['beer/style'][i] or \"quadrupel\" in train_data['beer/style'][i]:\n",
    "    \ttrain_data['beer/category'].iloc[i] = 10\n",
    "#11\n",
    "for i in range(0,train_data.shape[0]):\n",
    "\tif \"barley wine\" in train_data['beer/style'][i] or \"traditional ale\" in train_data['beer/style'][i] or \"old ale\" in train_data['beer/style'][i]:\n",
    "    \ttrain_data['beer/category'].iloc[i] = 11\n",
    "#12\n",
    "for i in range(0,train_data.shape[0]):\n",
    "\tif \"amber ale\" in train_data['beer/style'][i]:\n",
    "    \ttrain_data['beer/category'].iloc[i] = 12\n",
    "#13\n",
    "for i in range(0,train_data.shape[0]):\n",
    "\tif \"esb\" in train_data['beer/style'][i] or \"american pale ale\" in train_data['beer/style'][i] or \"bitter\" in train_data['beer/style'][i] or \"english pale ale\" in train_data['beer/style'][i]:\n",
    "    \ttrain_data['beer/category'].iloc[i] = 13\n",
    "#14\n",
    "for i in range(0,train_data.shape[0]):\n",
    "\tif \"ipa\" in train_data['beer/style'][i]:\n",
    "    \ttrain_data['beer/category'].iloc[i] = 14\n",
    "#15\n",
    "for i in range(0,train_data.shape[0]):\n",
    "\tif \"brown ale\" in train_data['beer/style'][i] or \"english strong ale\" in train_data['beer/style'][i] or \"irish ale\" in train_data['beer/style'][i]:\n",
    "    \ttrain_data['beer/category'].iloc[i] = 15\n",
    "#16\n",
    "for i in range(0,train_data.shape[0]):\n",
    "\tif \"porter\" in train_data['beer/style'][i]:\n",
    "    \ttrain_data['beer/category'].iloc[i] = 16\n",
    "#17\n",
    "for i in range(0,train_data.shape[0]):\n",
    "\tif \"stout\" in train_data['beer/style'][i]:\n",
    "    \ttrain_data['beer/category'].iloc[i] = 17\n",
    "\n"
   ]
  },
  {
   "cell_type": "markdown",
   "metadata": {},
   "source": [
    "### Group by profile name and grab overall scores’ min and max data which fulfill our conditions."
   ]
  },
  {
   "cell_type": "code",
   "execution_count": null,
   "metadata": {},
   "outputs": [],
   "source": [
    "MR_name = test.groupby('review/profileName').agg(['count'])['review/text']['count']>1\n",
    "pname = test.groupby('review/profileName').agg(['count']).index\n",
    "MR_name = pname[MR_name]\n",
    "MRdata = test[test['review/profileName'].isin(MR_name)]\n",
    "group_data = MRdata.groupby('review/profileName').agg(['min', 'max'])['review/overall']\n",
    "final = group_data[(group_data['min'] < 5) & (group_data['min'] < group_data['max']) & (group_data['max'] > 7)]\n",
    "train = test[test['review/profileName'].isin(final.index)]\n",
    "train['y'] = 0\n",
    "final['name'] = final.index\n",
    "final = final.reset_index(drop=True)\n",
    "train = train.reset_index(drop=True)\n",
    "final['max_y'] = 0\n",
    "high_train = train[(train['review/overall']>7)]\n",
    "high_train = high_train.reset_index(drop=True)\n",
    "for i in range(0,final.shape[0]):\n",
    "\tfor j in range(0, high_train.shape[0]):\n",
    "    \tif (final['name'][i] == high_train['review/profileName'][j]) and (final['max'][i] == high_train['review/overall'][j]):\n",
    "        \tfinal['max_y'].iloc[i] = high_train['beer/category'][j]\n",
    "Xtrain = train[(train['review/overall']<5)]\n",
    "Xtrain['y'] = 0\n",
    "Xtrain = Xtrain.reset_index(drop=True)\n",
    "for i in range(0,final.shape[0]):\n",
    "\tfor j in range(0, Xtrain.shape[0]):\n",
    "    \tif ((Xtrain['review/profileName'][j]) == (final['name'][i])):\n",
    "        \tXtrain['y'].iloc[j] = final['max_y'][i]\n"
   ]
  },
  {
   "cell_type": "markdown",
   "metadata": {},
   "source": [
    "### Group 17 categories into 5 styles"
   ]
  },
  {
   "cell_type": "code",
   "execution_count": null,
   "metadata": {},
   "outputs": [],
   "source": [
    "for i in range(0,Xtrain.shape[0]):\n",
    "\tif  (Xtrain['y'][i] == 0) or (Xtrain['y'][i] == 1) or (Xtrain['y'][i] == 2) or (Xtrain['y'][i] == 3) or (Xtrain['y'][i] == 4) or (Xtrain['y'][i] == 5):\n",
    "    \tXtrain['y'].iloc[i] = 1\n",
    "    elif (Xtrain['y'][i] == 6):\n",
    "    \tXtrain['y'].iloc[i] = 2\n",
    "\telif (Xtrain['y'][i] == 7) or (Xtrain['y'][i] == 8) or (Xtrain['y'][i] == 11):\n",
    "    \tXtrain['y'].iloc[i] = 3\n",
    "\telif (Xtrain['y'][i] == 9) or (Xtrain['y'][i] == 14) or (Xtrain['y'][i] == 15):\n",
    "    \tXtrain['y'].iloc[i] = 4\n",
    "\telif (Xtrain['y'][i] == 10):\n",
    "    \tXtrain['y'].iloc[i] = 5\n",
    "\telif (Xtrain['y'][i] == 12) or (Xtrain['y'][i] == 13):\n",
    "    \tXtrain['y'].iloc[i] = 6\n",
    "\telif (Xtrain['y'][i] == 16):\n",
    "    \tXtrain['y'].iloc[i] = 7\n",
    " \n",
    "for i in range(0,X2train.shape[0]):\n",
    "\tif  (X2train['y'][i] == 1):\n",
    "    \tX2train['y'].iloc[i] = 1\n",
    "\telif (X2train['y'][i] == 2) or (X2train['y'][i] == 6):\n",
    "    \tX2train['y'].iloc[i] = 2\n",
    "\telif (X2train['y'][i] == 4):\n",
    "        X2train['y'].iloc[i] = 3\n",
    "\telif (X2train['y'][i] == 5) or (X2train['y'][i] == 7):\n",
    "    \t   \tX2train['y'].iloc[i] = 4\n",
    "         \telif (X2train['y'][i] == 3):\n",
    "    \t   \tX2train['y'].iloc[i] = 5\n"
   ]
  },
  {
   "cell_type": "code",
   "execution_count": null,
   "metadata": {},
   "outputs": [],
   "source": []
  },
  {
   "cell_type": "code",
   "execution_count": null,
   "metadata": {},
   "outputs": [],
   "source": []
  },
  {
   "cell_type": "code",
   "execution_count": null,
   "metadata": {},
   "outputs": [],
   "source": []
  },
  {
   "cell_type": "code",
   "execution_count": null,
   "metadata": {},
   "outputs": [],
   "source": []
  },
  {
   "cell_type": "markdown",
   "metadata": {},
   "source": [
    "# NLP model Building"
   ]
  },
  {
   "cell_type": "code",
   "execution_count": null,
   "metadata": {},
   "outputs": [],
   "source": [
    "import nltk\n",
    "nltk.download('punkt')\n",
    "import re\n",
    "import string\n",
    "from nltk.corpus import stopwords"
   ]
  },
  {
   "cell_type": "code",
   "execution_count": null,
   "metadata": {},
   "outputs": [],
   "source": [
    "from sklearn.model_selection import train_test_split\n",
    "\n",
    "X = train['review/text']\n",
    "y = train['y']\n",
    "\n",
    "X_train, X_test, y_train, y_test = train_test_split(\n",
    "    X, y, test_size=0.3, random_state=42)"
   ]
  },
  {
   "cell_type": "code",
   "execution_count": null,
   "metadata": {},
   "outputs": [],
   "source": [
    "def text_process(mess):\n",
    "    \n",
    "    nopunc = [char for char in mess if char not in string.punctuation]\n",
    "\n",
    "    nopunc = ''.join(nopunc)\n",
    "    \n",
    "    \n",
    "    return [word for word in nopunc.split() \n",
    "        if word.lower() not in stopwords.words('english')]"
   ]
  },
  {
   "cell_type": "code",
   "execution_count": null,
   "metadata": {},
   "outputs": [],
   "source": [
    "start = datetime.datetime.now()\n",
    "\n",
    "from sklearn.feature_extraction.text import CountVectorizer\n",
    "from sklearn.feature_extraction.text import TfidfTransformer\n",
    "from sklearn.naive_bayes import MultinomialNB\n",
    "from sklearn.pipeline import Pipeline\n",
    "from sklearn.ensemble import RandomForestClassifier\n",
    "from xgboost import XGBClassifier\n",
    "\n",
    "\n",
    "\n",
    "\n",
    "pipeline = Pipeline([\n",
    "        ('bow', CountVectorizer(analyzer=text_process)),\n",
    "        ('tfidf', TfidfTransformer()),\n",
    "        (#'classfier', RandomForestClassifier())])\n",
    "         'classfier',XGBClassifier(\n",
    "                        max_depth=10,\n",
    "                        learning_rate=0.1,\n",
    "                        n_estimators=2000,\n",
    "                        #silent = True,\n",
    "                        nthread=-1,\n",
    "                        gamma=0,\n",
    "                        subsample=0.85,\n",
    "                        colsample_bytree=0.8))])\n",
    "         #'classfier',MultinomialNB())])\n",
    "\n",
    "\n",
    "pipeline.fit(X_train, y_train)\n",
    "\n",
    "predictions = pipeline.predict(X_test)\n",
    "\n",
    "from sklearn.metrics import classification_report\n",
    "print(classification_report(y_test, predictions))\n",
    "end = datetime.datetime.now()\n",
    "print(\"time：\", end - start) "
   ]
  },
  {
   "cell_type": "code",
   "execution_count": null,
   "metadata": {},
   "outputs": [],
   "source": [
    "print(classification_report(y_test, predictions))"
   ]
  },
  {
   "cell_type": "code",
   "execution_count": null,
   "metadata": {},
   "outputs": [],
   "source": []
  },
  {
   "cell_type": "code",
   "execution_count": null,
   "metadata": {},
   "outputs": [],
   "source": []
  },
  {
   "cell_type": "code",
   "execution_count": null,
   "metadata": {},
   "outputs": [],
   "source": []
  },
  {
   "cell_type": "code",
   "execution_count": null,
   "metadata": {},
   "outputs": [],
   "source": []
  },
  {
   "cell_type": "code",
   "execution_count": null,
   "metadata": {},
   "outputs": [],
   "source": []
  },
  {
   "cell_type": "code",
   "execution_count": null,
   "metadata": {},
   "outputs": [],
   "source": []
  },
  {
   "cell_type": "code",
   "execution_count": null,
   "metadata": {},
   "outputs": [],
   "source": []
  },
  {
   "cell_type": "code",
   "execution_count": null,
   "metadata": {},
   "outputs": [],
   "source": []
  },
  {
   "cell_type": "code",
   "execution_count": null,
   "metadata": {},
   "outputs": [],
   "source": []
  },
  {
   "cell_type": "code",
   "execution_count": null,
   "metadata": {},
   "outputs": [],
   "source": []
  },
  {
   "cell_type": "code",
   "execution_count": null,
   "metadata": {},
   "outputs": [],
   "source": []
  },
  {
   "cell_type": "markdown",
   "metadata": {},
   "source": [
    "# test code (above is enough)"
   ]
  },
  {
   "cell_type": "code",
   "execution_count": null,
   "metadata": {},
   "outputs": [],
   "source": []
  },
  {
   "cell_type": "code",
   "execution_count": 3,
   "metadata": {},
   "outputs": [],
   "source": [
    "all_data = pd.read_csv('/Users/huangzijing/Desktop/all_data.csv')\n",
    "test = all_data"
   ]
  },
  {
   "cell_type": "code",
   "execution_count": 5,
   "metadata": {},
   "outputs": [],
   "source": [
    "test['review/profileName'] = test['review/profileName'].astype(\"category\").cat.codes"
   ]
  },
  {
   "cell_type": "code",
   "execution_count": 6,
   "metadata": {},
   "outputs": [],
   "source": [
    "test['beer/beerId'] = test['beer/beerId'].astype(\"category\").cat.codes\n",
    "test['beer/brewerId'] = test['beer/brewerId'].astype(\"category\").cat.codes\n",
    "test['review/appearance'] = test['review/appearance'].astype(\"category\").cat.codes\n",
    "test['review/aroma'] = test['review/aroma'].astype(\"category\").cat.codes\n",
    "test['review/palate'] = test['review/palate'].astype(\"category\").cat.codes\n",
    "test['review/taste'] = test['review/taste'].astype(\"category\").cat.codes\n",
    "test['review/overall'] = (test['review/overall']).astype('int')\n",
    "test['year'] = test['year'].astype(\"category\").cat.codes\n",
    "test['beer/category'] = test['beer/category'].astype(\"category\").cat.codes"
   ]
  },
  {
   "cell_type": "code",
   "execution_count": 11,
   "metadata": {},
   "outputs": [
    {
     "ename": "KeyError",
     "evalue": "\"['review/time'] not found in axis\"",
     "output_type": "error",
     "traceback": [
      "\u001b[0;31m---------------------------------------------------------------------------\u001b[0m",
      "\u001b[0;31mKeyError\u001b[0m                                  Traceback (most recent call last)",
      "\u001b[0;32m<ipython-input-11-d4ba58f704b9>\u001b[0m in \u001b[0;36m<module>\u001b[0;34m\u001b[0m\n\u001b[0;32m----> 1\u001b[0;31m \u001b[0mtest\u001b[0m \u001b[0;34m=\u001b[0m \u001b[0mtest\u001b[0m\u001b[0;34m.\u001b[0m\u001b[0mdrop\u001b[0m\u001b[0;34m(\u001b[0m\u001b[0;34m[\u001b[0m\u001b[0;34m'review/time'\u001b[0m\u001b[0;34m]\u001b[0m\u001b[0;34m,\u001b[0m \u001b[0maxis\u001b[0m \u001b[0;34m=\u001b[0m \u001b[0;36m1\u001b[0m\u001b[0;34m)\u001b[0m\u001b[0;34m\u001b[0m\u001b[0;34m\u001b[0m\u001b[0m\n\u001b[0m\u001b[1;32m      2\u001b[0m \u001b[0mtest\u001b[0m \u001b[0;34m=\u001b[0m \u001b[0mtest\u001b[0m\u001b[0;34m[\u001b[0m\u001b[0;36m0\u001b[0m\u001b[0;34m:\u001b[0m\u001b[0;36m1400000\u001b[0m\u001b[0;34m]\u001b[0m\u001b[0;34m\u001b[0m\u001b[0;34m\u001b[0m\u001b[0m\n\u001b[1;32m      3\u001b[0m \u001b[0mtest\u001b[0m\u001b[0;34m\u001b[0m\u001b[0;34m\u001b[0m\u001b[0m\n",
      "\u001b[0;32m~/opt/miniconda3/lib/python3.8/site-packages/pandas/core/frame.py\u001b[0m in \u001b[0;36mdrop\u001b[0;34m(self, labels, axis, index, columns, level, inplace, errors)\u001b[0m\n\u001b[1;32m   4306\u001b[0m                 \u001b[0mweight\u001b[0m  \u001b[0;36m1.0\u001b[0m     \u001b[0;36m0.8\u001b[0m\u001b[0;34m\u001b[0m\u001b[0;34m\u001b[0m\u001b[0m\n\u001b[1;32m   4307\u001b[0m         \"\"\"\n\u001b[0;32m-> 4308\u001b[0;31m         return super().drop(\n\u001b[0m\u001b[1;32m   4309\u001b[0m             \u001b[0mlabels\u001b[0m\u001b[0;34m=\u001b[0m\u001b[0mlabels\u001b[0m\u001b[0;34m,\u001b[0m\u001b[0;34m\u001b[0m\u001b[0;34m\u001b[0m\u001b[0m\n\u001b[1;32m   4310\u001b[0m             \u001b[0maxis\u001b[0m\u001b[0;34m=\u001b[0m\u001b[0maxis\u001b[0m\u001b[0;34m,\u001b[0m\u001b[0;34m\u001b[0m\u001b[0;34m\u001b[0m\u001b[0m\n",
      "\u001b[0;32m~/opt/miniconda3/lib/python3.8/site-packages/pandas/core/generic.py\u001b[0m in \u001b[0;36mdrop\u001b[0;34m(self, labels, axis, index, columns, level, inplace, errors)\u001b[0m\n\u001b[1;32m   4151\u001b[0m         \u001b[0;32mfor\u001b[0m \u001b[0maxis\u001b[0m\u001b[0;34m,\u001b[0m \u001b[0mlabels\u001b[0m \u001b[0;32min\u001b[0m \u001b[0maxes\u001b[0m\u001b[0;34m.\u001b[0m\u001b[0mitems\u001b[0m\u001b[0;34m(\u001b[0m\u001b[0;34m)\u001b[0m\u001b[0;34m:\u001b[0m\u001b[0;34m\u001b[0m\u001b[0;34m\u001b[0m\u001b[0m\n\u001b[1;32m   4152\u001b[0m             \u001b[0;32mif\u001b[0m \u001b[0mlabels\u001b[0m \u001b[0;32mis\u001b[0m \u001b[0;32mnot\u001b[0m \u001b[0;32mNone\u001b[0m\u001b[0;34m:\u001b[0m\u001b[0;34m\u001b[0m\u001b[0;34m\u001b[0m\u001b[0m\n\u001b[0;32m-> 4153\u001b[0;31m                 \u001b[0mobj\u001b[0m \u001b[0;34m=\u001b[0m \u001b[0mobj\u001b[0m\u001b[0;34m.\u001b[0m\u001b[0m_drop_axis\u001b[0m\u001b[0;34m(\u001b[0m\u001b[0mlabels\u001b[0m\u001b[0;34m,\u001b[0m \u001b[0maxis\u001b[0m\u001b[0;34m,\u001b[0m \u001b[0mlevel\u001b[0m\u001b[0;34m=\u001b[0m\u001b[0mlevel\u001b[0m\u001b[0;34m,\u001b[0m \u001b[0merrors\u001b[0m\u001b[0;34m=\u001b[0m\u001b[0merrors\u001b[0m\u001b[0;34m)\u001b[0m\u001b[0;34m\u001b[0m\u001b[0;34m\u001b[0m\u001b[0m\n\u001b[0m\u001b[1;32m   4154\u001b[0m \u001b[0;34m\u001b[0m\u001b[0m\n\u001b[1;32m   4155\u001b[0m         \u001b[0;32mif\u001b[0m \u001b[0minplace\u001b[0m\u001b[0;34m:\u001b[0m\u001b[0;34m\u001b[0m\u001b[0;34m\u001b[0m\u001b[0m\n",
      "\u001b[0;32m~/opt/miniconda3/lib/python3.8/site-packages/pandas/core/generic.py\u001b[0m in \u001b[0;36m_drop_axis\u001b[0;34m(self, labels, axis, level, errors)\u001b[0m\n\u001b[1;32m   4186\u001b[0m                 \u001b[0mnew_axis\u001b[0m \u001b[0;34m=\u001b[0m \u001b[0maxis\u001b[0m\u001b[0;34m.\u001b[0m\u001b[0mdrop\u001b[0m\u001b[0;34m(\u001b[0m\u001b[0mlabels\u001b[0m\u001b[0;34m,\u001b[0m \u001b[0mlevel\u001b[0m\u001b[0;34m=\u001b[0m\u001b[0mlevel\u001b[0m\u001b[0;34m,\u001b[0m \u001b[0merrors\u001b[0m\u001b[0;34m=\u001b[0m\u001b[0merrors\u001b[0m\u001b[0;34m)\u001b[0m\u001b[0;34m\u001b[0m\u001b[0;34m\u001b[0m\u001b[0m\n\u001b[1;32m   4187\u001b[0m             \u001b[0;32melse\u001b[0m\u001b[0;34m:\u001b[0m\u001b[0;34m\u001b[0m\u001b[0;34m\u001b[0m\u001b[0m\n\u001b[0;32m-> 4188\u001b[0;31m                 \u001b[0mnew_axis\u001b[0m \u001b[0;34m=\u001b[0m \u001b[0maxis\u001b[0m\u001b[0;34m.\u001b[0m\u001b[0mdrop\u001b[0m\u001b[0;34m(\u001b[0m\u001b[0mlabels\u001b[0m\u001b[0;34m,\u001b[0m \u001b[0merrors\u001b[0m\u001b[0;34m=\u001b[0m\u001b[0merrors\u001b[0m\u001b[0;34m)\u001b[0m\u001b[0;34m\u001b[0m\u001b[0;34m\u001b[0m\u001b[0m\n\u001b[0m\u001b[1;32m   4189\u001b[0m             \u001b[0mresult\u001b[0m \u001b[0;34m=\u001b[0m \u001b[0mself\u001b[0m\u001b[0;34m.\u001b[0m\u001b[0mreindex\u001b[0m\u001b[0;34m(\u001b[0m\u001b[0;34m**\u001b[0m\u001b[0;34m{\u001b[0m\u001b[0maxis_name\u001b[0m\u001b[0;34m:\u001b[0m \u001b[0mnew_axis\u001b[0m\u001b[0;34m}\u001b[0m\u001b[0;34m)\u001b[0m\u001b[0;34m\u001b[0m\u001b[0;34m\u001b[0m\u001b[0m\n\u001b[1;32m   4190\u001b[0m \u001b[0;34m\u001b[0m\u001b[0m\n",
      "\u001b[0;32m~/opt/miniconda3/lib/python3.8/site-packages/pandas/core/indexes/base.py\u001b[0m in \u001b[0;36mdrop\u001b[0;34m(self, labels, errors)\u001b[0m\n\u001b[1;32m   5589\u001b[0m         \u001b[0;32mif\u001b[0m \u001b[0mmask\u001b[0m\u001b[0;34m.\u001b[0m\u001b[0many\u001b[0m\u001b[0;34m(\u001b[0m\u001b[0;34m)\u001b[0m\u001b[0;34m:\u001b[0m\u001b[0;34m\u001b[0m\u001b[0;34m\u001b[0m\u001b[0m\n\u001b[1;32m   5590\u001b[0m             \u001b[0;32mif\u001b[0m \u001b[0merrors\u001b[0m \u001b[0;34m!=\u001b[0m \u001b[0;34m\"ignore\"\u001b[0m\u001b[0;34m:\u001b[0m\u001b[0;34m\u001b[0m\u001b[0;34m\u001b[0m\u001b[0m\n\u001b[0;32m-> 5591\u001b[0;31m                 \u001b[0;32mraise\u001b[0m \u001b[0mKeyError\u001b[0m\u001b[0;34m(\u001b[0m\u001b[0;34mf\"{labels[mask]} not found in axis\"\u001b[0m\u001b[0;34m)\u001b[0m\u001b[0;34m\u001b[0m\u001b[0;34m\u001b[0m\u001b[0m\n\u001b[0m\u001b[1;32m   5592\u001b[0m             \u001b[0mindexer\u001b[0m \u001b[0;34m=\u001b[0m \u001b[0mindexer\u001b[0m\u001b[0;34m[\u001b[0m\u001b[0;34m~\u001b[0m\u001b[0mmask\u001b[0m\u001b[0;34m]\u001b[0m\u001b[0;34m\u001b[0m\u001b[0;34m\u001b[0m\u001b[0m\n\u001b[1;32m   5593\u001b[0m         \u001b[0;32mreturn\u001b[0m \u001b[0mself\u001b[0m\u001b[0;34m.\u001b[0m\u001b[0mdelete\u001b[0m\u001b[0;34m(\u001b[0m\u001b[0mindexer\u001b[0m\u001b[0;34m)\u001b[0m\u001b[0;34m\u001b[0m\u001b[0;34m\u001b[0m\u001b[0m\n",
      "\u001b[0;31mKeyError\u001b[0m: \"['review/time'] not found in axis\""
     ]
    }
   ],
   "source": [
    "test = test.drop(['review/time'], axis = 1)\n",
    "test = test[0:1400000]"
   ]
  },
  {
   "cell_type": "markdown",
   "metadata": {},
   "source": [
    "# group by"
   ]
  },
  {
   "cell_type": "code",
   "execution_count": 14,
   "metadata": {},
   "outputs": [],
   "source": [
    "MR_name = test.groupby('review/profileName').agg(['count'])['review/text']['count']>1\n",
    "pname = test.groupby('review/profileName').agg(['count']).index\n",
    "MR_name = pname[MR_name]"
   ]
  },
  {
   "cell_type": "code",
   "execution_count": 15,
   "metadata": {},
   "outputs": [],
   "source": [
    "MRdata = test[test['review/profileName'].isin(MR_name)]\n",
    "group_data = MRdata.groupby('review/profileName').agg(['min', 'max'])['review/overall']"
   ]
  },
  {
   "cell_type": "code",
   "execution_count": 17,
   "metadata": {},
   "outputs": [
    {
     "name": "stderr",
     "output_type": "stream",
     "text": [
      "<ipython-input-17-458f21217d3e>:3: SettingWithCopyWarning: \n",
      "A value is trying to be set on a copy of a slice from a DataFrame.\n",
      "Try using .loc[row_indexer,col_indexer] = value instead\n",
      "\n",
      "See the caveats in the documentation: https://pandas.pydata.org/pandas-docs/stable/user_guide/indexing.html#returning-a-view-versus-a-copy\n",
      "  train['y'] = 0\n",
      "<ipython-input-17-458f21217d3e>:4: SettingWithCopyWarning: \n",
      "A value is trying to be set on a copy of a slice from a DataFrame.\n",
      "Try using .loc[row_indexer,col_indexer] = value instead\n",
      "\n",
      "See the caveats in the documentation: https://pandas.pydata.org/pandas-docs/stable/user_guide/indexing.html#returning-a-view-versus-a-copy\n",
      "  final['name'] = final.index\n"
     ]
    }
   ],
   "source": [
    "final = group_data[(group_data['min'] < 5) & (group_data['min'] < group_data['max']) & (group_data['max'] > 7)]\n",
    "train = test[test['review/profileName'].isin(final.index)]\n",
    "train['y'] = 0\n",
    "final['name'] = final.index\n",
    "final = final.reset_index(drop=True)\n",
    "train = train.reset_index(drop=True)"
   ]
  },
  {
   "cell_type": "code",
   "execution_count": 22,
   "metadata": {},
   "outputs": [],
   "source": [
    "final['max_y'] = 0\n",
    "high_train = train[(train['review/overall']>7)]\n",
    "high_train = high_train.reset_index(drop=True)"
   ]
  },
  {
   "cell_type": "code",
   "execution_count": null,
   "metadata": {},
   "outputs": [],
   "source": []
  },
  {
   "cell_type": "code",
   "execution_count": null,
   "metadata": {},
   "outputs": [],
   "source": []
  },
  {
   "cell_type": "markdown",
   "metadata": {},
   "source": [
    "## Built group data, set new category"
   ]
  },
  {
   "cell_type": "code",
   "execution_count": 25,
   "metadata": {},
   "outputs": [
    {
     "name": "stdout",
     "output_type": "stream",
     "text": [
      "time： 6:06:22.923303\n"
     ]
    }
   ],
   "source": [
    "start = datetime.datetime.now()\n",
    "\n",
    "for i in range(0,final.shape[0]):\n",
    "    for j in range(0, high_train.shape[0]):\n",
    "        if (final['name'][i] == high_train['review/profileName'][j]) and (final['max'][i] == high_train['review/overall'][j]):\n",
    "            final['max_y'].iloc[i] = high_train['beer/category'][j]\n",
    "            \n",
    "            \n",
    "end = datetime.datetime.now()\n",
    "print(\"time：\", end - start)  "
   ]
  },
  {
   "cell_type": "code",
   "execution_count": 26,
   "metadata": {},
   "outputs": [],
   "source": [
    "final.to_csv('new_final', index = False)"
   ]
  },
  {
   "cell_type": "code",
   "execution_count": 2,
   "metadata": {},
   "outputs": [
    {
     "data": {
      "text/html": [
       "<div>\n",
       "<style scoped>\n",
       "    .dataframe tbody tr th:only-of-type {\n",
       "        vertical-align: middle;\n",
       "    }\n",
       "\n",
       "    .dataframe tbody tr th {\n",
       "        vertical-align: top;\n",
       "    }\n",
       "\n",
       "    .dataframe thead th {\n",
       "        text-align: right;\n",
       "    }\n",
       "</style>\n",
       "<table border=\"1\" class=\"dataframe\">\n",
       "  <thead>\n",
       "    <tr style=\"text-align: right;\">\n",
       "      <th></th>\n",
       "      <th>min</th>\n",
       "      <th>max</th>\n",
       "      <th>name</th>\n",
       "      <th>max_y</th>\n",
       "    </tr>\n",
       "  </thead>\n",
       "  <tbody>\n",
       "    <tr>\n",
       "      <th>0</th>\n",
       "      <td>0</td>\n",
       "      <td>9</td>\n",
       "      <td>3</td>\n",
       "      <td>9</td>\n",
       "    </tr>\n",
       "    <tr>\n",
       "      <th>1</th>\n",
       "      <td>0</td>\n",
       "      <td>9</td>\n",
       "      <td>5</td>\n",
       "      <td>3</td>\n",
       "    </tr>\n",
       "    <tr>\n",
       "      <th>2</th>\n",
       "      <td>1</td>\n",
       "      <td>10</td>\n",
       "      <td>8</td>\n",
       "      <td>12</td>\n",
       "    </tr>\n",
       "    <tr>\n",
       "      <th>3</th>\n",
       "      <td>1</td>\n",
       "      <td>10</td>\n",
       "      <td>9</td>\n",
       "      <td>9</td>\n",
       "    </tr>\n",
       "    <tr>\n",
       "      <th>4</th>\n",
       "      <td>4</td>\n",
       "      <td>9</td>\n",
       "      <td>11</td>\n",
       "      <td>2</td>\n",
       "    </tr>\n",
       "    <tr>\n",
       "      <th>...</th>\n",
       "      <td>...</td>\n",
       "      <td>...</td>\n",
       "      <td>...</td>\n",
       "      <td>...</td>\n",
       "    </tr>\n",
       "    <tr>\n",
       "      <th>8048</th>\n",
       "      <td>1</td>\n",
       "      <td>9</td>\n",
       "      <td>28003</td>\n",
       "      <td>0</td>\n",
       "    </tr>\n",
       "    <tr>\n",
       "      <th>8049</th>\n",
       "      <td>3</td>\n",
       "      <td>9</td>\n",
       "      <td>28005</td>\n",
       "      <td>9</td>\n",
       "    </tr>\n",
       "    <tr>\n",
       "      <th>8050</th>\n",
       "      <td>1</td>\n",
       "      <td>9</td>\n",
       "      <td>28009</td>\n",
       "      <td>13</td>\n",
       "    </tr>\n",
       "    <tr>\n",
       "      <th>8051</th>\n",
       "      <td>1</td>\n",
       "      <td>8</td>\n",
       "      <td>28012</td>\n",
       "      <td>5</td>\n",
       "    </tr>\n",
       "    <tr>\n",
       "      <th>8052</th>\n",
       "      <td>0</td>\n",
       "      <td>8</td>\n",
       "      <td>28014</td>\n",
       "      <td>12</td>\n",
       "    </tr>\n",
       "  </tbody>\n",
       "</table>\n",
       "<p>8053 rows × 4 columns</p>\n",
       "</div>"
      ],
      "text/plain": [
       "      min  max   name  max_y\n",
       "0       0    9      3      9\n",
       "1       0    9      5      3\n",
       "2       1   10      8     12\n",
       "3       1   10      9      9\n",
       "4       4    9     11      2\n",
       "...   ...  ...    ...    ...\n",
       "8048    1    9  28003      0\n",
       "8049    3    9  28005      9\n",
       "8050    1    9  28009     13\n",
       "8051    1    8  28012      5\n",
       "8052    0    8  28014     12\n",
       "\n",
       "[8053 rows x 4 columns]"
      ]
     },
     "execution_count": 2,
     "metadata": {},
     "output_type": "execute_result"
    }
   ],
   "source": [
    "final = pd.read_csv('new_final')"
   ]
  },
  {
   "cell_type": "code",
   "execution_count": 70,
   "metadata": {},
   "outputs": [],
   "source": [
    "Xtrain = train[(train['review/overall']<5)]\n",
    "Xtrain = Xtrain.reset_index(drop=True)\n"
   ]
  },
  {
   "cell_type": "code",
   "execution_count": null,
   "metadata": {},
   "outputs": [],
   "source": []
  },
  {
   "cell_type": "code",
   "execution_count": null,
   "metadata": {},
   "outputs": [],
   "source": []
  },
  {
   "cell_type": "markdown",
   "metadata": {},
   "source": [
    "## Set raw data new category base on group data"
   ]
  },
  {
   "cell_type": "code",
   "execution_count": 74,
   "metadata": {},
   "outputs": [
    {
     "name": "stdout",
     "output_type": "stream",
     "text": [
      "time： 1:34:21.050590\n"
     ]
    }
   ],
   "source": [
    "start = datetime.datetime.now()\n",
    "\n",
    "for i in range(0,final.shape[0]):\n",
    "    for j in range(0, Xtrain.shape[0]):\n",
    "        if ((Xtrain['review/profileName'][j]) == (final['name'][i])):\n",
    "            Xtrain['y'].iloc[j] = final['max_y'][i]\n",
    "            \n",
    "            \n",
    "end = datetime.datetime.now()\n",
    "print(\"time：\", end - start)  "
   ]
  },
  {
   "cell_type": "code",
   "execution_count": 84,
   "metadata": {},
   "outputs": [
    {
     "data": {
      "text/plain": [
       "array([16,  8,  0, 13,  6,  9, 10,  5, 14,  7,  2,  3,  4, 15, 12,  1, 11])"
      ]
     },
     "execution_count": 84,
     "metadata": {},
     "output_type": "execute_result"
    }
   ],
   "source": []
  },
  {
   "cell_type": "code",
   "execution_count": null,
   "metadata": {},
   "outputs": [],
   "source": [
    "Xtrain.to_csv('X17train', index = False)"
   ]
  },
  {
   "cell_type": "code",
   "execution_count": 12,
   "metadata": {},
   "outputs": [
    {
     "data": {
      "text/html": [
       "<div>\n",
       "<style scoped>\n",
       "    .dataframe tbody tr th:only-of-type {\n",
       "        vertical-align: middle;\n",
       "    }\n",
       "\n",
       "    .dataframe tbody tr th {\n",
       "        vertical-align: top;\n",
       "    }\n",
       "\n",
       "    .dataframe thead th {\n",
       "        text-align: right;\n",
       "    }\n",
       "</style>\n",
       "<table border=\"1\" class=\"dataframe\">\n",
       "  <thead>\n",
       "    <tr style=\"text-align: right;\">\n",
       "      <th></th>\n",
       "      <th>beer/name</th>\n",
       "      <th>beer/beerId</th>\n",
       "      <th>beer/brewerId</th>\n",
       "      <th>beer/ABV</th>\n",
       "      <th>beer/style</th>\n",
       "      <th>review/appearance</th>\n",
       "      <th>review/aroma</th>\n",
       "      <th>review/palate</th>\n",
       "      <th>review/taste</th>\n",
       "      <th>review/overall</th>\n",
       "      <th>review/profileName</th>\n",
       "      <th>review/text</th>\n",
       "      <th>year</th>\n",
       "      <th>beer/category</th>\n",
       "      <th>new_cat</th>\n",
       "      <th>y</th>\n",
       "    </tr>\n",
       "  </thead>\n",
       "  <tbody>\n",
       "    <tr>\n",
       "      <th>0</th>\n",
       "      <td>Barley Island Goldilocks Belgian Blond</td>\n",
       "      <td>10488</td>\n",
       "      <td>732</td>\n",
       "      <td>7.0</td>\n",
       "      <td>belgian ale</td>\n",
       "      <td>2</td>\n",
       "      <td>3</td>\n",
       "      <td>2</td>\n",
       "      <td>3</td>\n",
       "      <td>4</td>\n",
       "      <td>1557</td>\n",
       "      <td>Had nearly 10 of their beers and this was by ...</td>\n",
       "      <td>11</td>\n",
       "      <td>4</td>\n",
       "      <td>1</td>\n",
       "      <td>16</td>\n",
       "    </tr>\n",
       "    <tr>\n",
       "      <th>1</th>\n",
       "      <td>Barley Island Dirty Helen Brown Ale</td>\n",
       "      <td>17771</td>\n",
       "      <td>732</td>\n",
       "      <td>4.3</td>\n",
       "      <td>brown ale</td>\n",
       "      <td>2</td>\n",
       "      <td>3</td>\n",
       "      <td>1</td>\n",
       "      <td>3</td>\n",
       "      <td>4</td>\n",
       "      <td>5467</td>\n",
       "      <td>Grainy and nutty malt character with hints of...</td>\n",
       "      <td>4</td>\n",
       "      <td>14</td>\n",
       "      <td>3</td>\n",
       "      <td>8</td>\n",
       "    </tr>\n",
       "    <tr>\n",
       "      <th>2</th>\n",
       "      <td>Barley Island Dirty Helen Brown Ale</td>\n",
       "      <td>17771</td>\n",
       "      <td>732</td>\n",
       "      <td>4.3</td>\n",
       "      <td>brown ale</td>\n",
       "      <td>2</td>\n",
       "      <td>5</td>\n",
       "      <td>0</td>\n",
       "      <td>4</td>\n",
       "      <td>4</td>\n",
       "      <td>3906</td>\n",
       "      <td>This is a deep red brown in color. The head i...</td>\n",
       "      <td>11</td>\n",
       "      <td>14</td>\n",
       "      <td>3</td>\n",
       "      <td>0</td>\n",
       "    </tr>\n",
       "    <tr>\n",
       "      <th>3</th>\n",
       "      <td>Barley Island Dirty Helen Brown Ale</td>\n",
       "      <td>17771</td>\n",
       "      <td>732</td>\n",
       "      <td>4.3</td>\n",
       "      <td>brown ale</td>\n",
       "      <td>2</td>\n",
       "      <td>3</td>\n",
       "      <td>1</td>\n",
       "      <td>3</td>\n",
       "      <td>4</td>\n",
       "      <td>1557</td>\n",
       "      <td>Dark red pour with a tan head. Faint aroma of...</td>\n",
       "      <td>10</td>\n",
       "      <td>14</td>\n",
       "      <td>3</td>\n",
       "      <td>16</td>\n",
       "    </tr>\n",
       "    <tr>\n",
       "      <th>4</th>\n",
       "      <td>Barley Island Count Hopula Imperial IPA</td>\n",
       "      <td>29789</td>\n",
       "      <td>732</td>\n",
       "      <td>8.0</td>\n",
       "      <td>imperial/double ipa</td>\n",
       "      <td>2</td>\n",
       "      <td>4</td>\n",
       "      <td>1</td>\n",
       "      <td>1</td>\n",
       "      <td>4</td>\n",
       "      <td>4020</td>\n",
       "      <td>Growler from STFUN....I hate to do this but I...</td>\n",
       "      <td>9</td>\n",
       "      <td>13</td>\n",
       "      <td>2</td>\n",
       "      <td>13</td>\n",
       "    </tr>\n",
       "    <tr>\n",
       "      <th>...</th>\n",
       "      <td>...</td>\n",
       "      <td>...</td>\n",
       "      <td>...</td>\n",
       "      <td>...</td>\n",
       "      <td>...</td>\n",
       "      <td>...</td>\n",
       "      <td>...</td>\n",
       "      <td>...</td>\n",
       "      <td>...</td>\n",
       "      <td>...</td>\n",
       "      <td>...</td>\n",
       "      <td>...</td>\n",
       "      <td>...</td>\n",
       "      <td>...</td>\n",
       "      <td>...</td>\n",
       "      <td>...</td>\n",
       "    </tr>\n",
       "    <tr>\n",
       "      <th>62705</th>\n",
       "      <td>Sadlers IPA</td>\n",
       "      <td>7682</td>\n",
       "      <td>927</td>\n",
       "      <td>4.8</td>\n",
       "      <td>premium bitter/esb</td>\n",
       "      <td>1</td>\n",
       "      <td>4</td>\n",
       "      <td>1</td>\n",
       "      <td>3</td>\n",
       "      <td>4</td>\n",
       "      <td>2808</td>\n",
       "      <td>Hand pulled at the Wellington, Birmingham. Lb...</td>\n",
       "      <td>7</td>\n",
       "      <td>12</td>\n",
       "      <td>2</td>\n",
       "      <td>14</td>\n",
       "    </tr>\n",
       "    <tr>\n",
       "      <th>62706</th>\n",
       "      <td>Terken Uberland BiÃ¨re des Flandres</td>\n",
       "      <td>3467</td>\n",
       "      <td>295</td>\n",
       "      <td>4.7</td>\n",
       "      <td>pale lager</td>\n",
       "      <td>3</td>\n",
       "      <td>4</td>\n",
       "      <td>1</td>\n",
       "      <td>3</td>\n",
       "      <td>3</td>\n",
       "      <td>1695</td>\n",
       "      <td>clear golden colour, fine head, herbal aroma,...</td>\n",
       "      <td>4</td>\n",
       "      <td>0</td>\n",
       "      <td>1</td>\n",
       "      <td>16</td>\n",
       "    </tr>\n",
       "    <tr>\n",
       "      <th>62707</th>\n",
       "      <td>Terken CleeÂs Original Special</td>\n",
       "      <td>1599</td>\n",
       "      <td>295</td>\n",
       "      <td>6.2</td>\n",
       "      <td>pale lager</td>\n",
       "      <td>2</td>\n",
       "      <td>3</td>\n",
       "      <td>1</td>\n",
       "      <td>3</td>\n",
       "      <td>3</td>\n",
       "      <td>1695</td>\n",
       "      <td>golden colour, few head, alcohol too present ...</td>\n",
       "      <td>2</td>\n",
       "      <td>0</td>\n",
       "      <td>1</td>\n",
       "      <td>16</td>\n",
       "    </tr>\n",
       "    <tr>\n",
       "      <th>62708</th>\n",
       "      <td>Terken Septante 5 Blonde</td>\n",
       "      <td>4824</td>\n",
       "      <td>295</td>\n",
       "      <td>6.2</td>\n",
       "      <td>biã¨re de garde</td>\n",
       "      <td>2</td>\n",
       "      <td>4</td>\n",
       "      <td>1</td>\n",
       "      <td>3</td>\n",
       "      <td>4</td>\n",
       "      <td>7729</td>\n",
       "      <td>(Bottle 75 cl) Fully golden with a nice, tall...</td>\n",
       "      <td>6</td>\n",
       "      <td>2</td>\n",
       "      <td>1</td>\n",
       "      <td>4</td>\n",
       "    </tr>\n",
       "    <tr>\n",
       "      <th>62709</th>\n",
       "      <td>Hereward Orange Womble</td>\n",
       "      <td>11936</td>\n",
       "      <td>745</td>\n",
       "      <td>4.5</td>\n",
       "      <td>bitter</td>\n",
       "      <td>3</td>\n",
       "      <td>5</td>\n",
       "      <td>2</td>\n",
       "      <td>4</td>\n",
       "      <td>4</td>\n",
       "      <td>5898</td>\n",
       "      <td>Cask at Pigs Ear BF.\\tSweet, a bit yeasty. No...</td>\n",
       "      <td>8</td>\n",
       "      <td>12</td>\n",
       "      <td>2</td>\n",
       "      <td>16</td>\n",
       "    </tr>\n",
       "  </tbody>\n",
       "</table>\n",
       "<p>62710 rows × 16 columns</p>\n",
       "</div>"
      ],
      "text/plain": [
       "                                      beer/name  beer/beerId  beer/brewerId  \\\n",
       "0        Barley Island Goldilocks Belgian Blond        10488            732   \n",
       "1           Barley Island Dirty Helen Brown Ale        17771            732   \n",
       "2           Barley Island Dirty Helen Brown Ale        17771            732   \n",
       "3           Barley Island Dirty Helen Brown Ale        17771            732   \n",
       "4       Barley Island Count Hopula Imperial IPA        29789            732   \n",
       "...                                         ...          ...            ...   \n",
       "62705                               Sadlers IPA         7682            927   \n",
       "62706       Terken Uberland BiÃ¨re des Flandres         3467            295   \n",
       "62707           Terken CleeÂs Original Special         1599            295   \n",
       "62708                  Terken Septante 5 Blonde         4824            295   \n",
       "62709                    Hereward Orange Womble        11936            745   \n",
       "\n",
       "       beer/ABV            beer/style  review/appearance  review/aroma  \\\n",
       "0           7.0           belgian ale                  2             3   \n",
       "1           4.3             brown ale                  2             3   \n",
       "2           4.3             brown ale                  2             5   \n",
       "3           4.3             brown ale                  2             3   \n",
       "4           8.0   imperial/double ipa                  2             4   \n",
       "...         ...                   ...                ...           ...   \n",
       "62705       4.8    premium bitter/esb                  1             4   \n",
       "62706       4.7            pale lager                  3             4   \n",
       "62707       6.2            pale lager                  2             3   \n",
       "62708       6.2       biã¨re de garde                  2             4   \n",
       "62709       4.5                bitter                  3             5   \n",
       "\n",
       "       review/palate  review/taste  review/overall  review/profileName  \\\n",
       "0                  2             3               4                1557   \n",
       "1                  1             3               4                5467   \n",
       "2                  0             4               4                3906   \n",
       "3                  1             3               4                1557   \n",
       "4                  1             1               4                4020   \n",
       "...              ...           ...             ...                 ...   \n",
       "62705              1             3               4                2808   \n",
       "62706              1             3               3                1695   \n",
       "62707              1             3               3                1695   \n",
       "62708              1             3               4                7729   \n",
       "62709              2             4               4                5898   \n",
       "\n",
       "                                             review/text  year  beer/category  \\\n",
       "0       Had nearly 10 of their beers and this was by ...    11              4   \n",
       "1       Grainy and nutty malt character with hints of...     4             14   \n",
       "2       This is a deep red brown in color. The head i...    11             14   \n",
       "3       Dark red pour with a tan head. Faint aroma of...    10             14   \n",
       "4       Growler from STFUN....I hate to do this but I...     9             13   \n",
       "...                                                  ...   ...            ...   \n",
       "62705   Hand pulled at the Wellington, Birmingham. Lb...     7             12   \n",
       "62706   clear golden colour, fine head, herbal aroma,...     4              0   \n",
       "62707   golden colour, few head, alcohol too present ...     2              0   \n",
       "62708   (Bottle 75 cl) Fully golden with a nice, tall...     6              2   \n",
       "62709   Cask at Pigs Ear BF.\\tSweet, a bit yeasty. No...     8             12   \n",
       "\n",
       "       new_cat   y  \n",
       "0            1  16  \n",
       "1            3   8  \n",
       "2            3   0  \n",
       "3            3  16  \n",
       "4            2  13  \n",
       "...        ...  ..  \n",
       "62705        2  14  \n",
       "62706        1  16  \n",
       "62707        1  16  \n",
       "62708        1   4  \n",
       "62709        2  16  \n",
       "\n",
       "[62710 rows x 16 columns]"
      ]
     },
     "execution_count": 12,
     "metadata": {},
     "output_type": "execute_result"
    }
   ],
   "source": [
    "Xtrain = pd.read_csv('/Users/huangzijing/Desktop/X17train')"
   ]
  },
  {
   "cell_type": "code",
   "execution_count": null,
   "metadata": {},
   "outputs": [],
   "source": []
  },
  {
   "cell_type": "markdown",
   "metadata": {},
   "source": [
    "## set raw data 17 category to 5 category"
   ]
  },
  {
   "cell_type": "code",
   "execution_count": 14,
   "metadata": {},
   "outputs": [],
   "source": [
    "for i in range(0,Xtrain.shape[0]):\n",
    "    if (Xtrain['y'][i] == 0) or (Xtrain['y'][i] == 1) or (Xtrain['y'][i] == 2) or (Xtrain['y'][i] == 3) or (Xtrain['y'][i] == 4) or (Xtrain['y'][i] == 5):\n",
    "        Xtrain['y'].iloc[i] = 1\n",
    "    elif (Xtrain['y'][i] == 6):\n",
    "        Xtrain['y'].iloc[i] = 2\n",
    "    elif (Xtrain['y'][i] == 7) or (Xtrain['y'][i] == 8) or (Xtrain['y'][i] == 11):\n",
    "        Xtrain['y'].iloc[i] = 3\n",
    "    elif (Xtrain['y'][i] == 9) or (Xtrain['y'][i] == 14) or (Xtrain['y'][i] == 15):\n",
    "        Xtrain['y'].iloc[i] = 4\n",
    "    elif (Xtrain['y'][i] == 10):\n",
    "        Xtrain['y'].iloc[i] = 5\n",
    "    elif (Xtrain['y'][i] == 12) or (Xtrain['y'][i] == 13):\n",
    "        Xtrain['y'].iloc[i] = 6\n",
    "    elif (Xtrain['y'][i] == 16):\n",
    "        Xtrain['y'].iloc[i] = 7"
   ]
  },
  {
   "cell_type": "code",
   "execution_count": 23,
   "metadata": {},
   "outputs": [],
   "source": [
    "for i in range(0,Xtrain.shape[0]):\n",
    "    if  (Xtrain['y'][i] == 1):\n",
    "        Xtrain['y'].iloc[i] = 1\n",
    "    elif (Xtrain['y'][i] == 2) or (Xtrain['y'][i] == 6):\n",
    "        Xtrain['y'].iloc[i] = 2\n",
    "    elif (Xtrain['y'][i] == 4):\n",
    "        Xtrain['y'].iloc[i] = 3\n",
    "    elif (Xtrain['y'][i] == 5) or (Xtrain['y'][i] == 7):\n",
    "        Xtrain['y'].iloc[i] = 4\n",
    "    elif (Xtrain['y'][i] == 3):\n",
    "        Xtrain['y'].iloc[i] = 5"
   ]
  },
  {
   "cell_type": "code",
   "execution_count": null,
   "metadata": {},
   "outputs": [],
   "source": [
    "Xtrain['y'].unique()"
   ]
  },
  {
   "cell_type": "code",
   "execution_count": 25,
   "metadata": {},
   "outputs": [],
   "source": [
    "Xtrain.to_csv('X5train', index = False)"
   ]
  },
  {
   "cell_type": "code",
   "execution_count": 26,
   "metadata": {},
   "outputs": [],
   "source": [
    "X2train = pd.read_csv('/Users/huangzijing/Desktop/X5train')"
   ]
  },
  {
   "cell_type": "code",
   "execution_count": 60,
   "metadata": {},
   "outputs": [
    {
     "data": {
      "text/html": [
       "<div>\n",
       "<style scoped>\n",
       "    .dataframe tbody tr th:only-of-type {\n",
       "        vertical-align: middle;\n",
       "    }\n",
       "\n",
       "    .dataframe tbody tr th {\n",
       "        vertical-align: top;\n",
       "    }\n",
       "\n",
       "    .dataframe thead th {\n",
       "        text-align: right;\n",
       "    }\n",
       "</style>\n",
       "<table border=\"1\" class=\"dataframe\">\n",
       "  <thead>\n",
       "    <tr style=\"text-align: right;\">\n",
       "      <th></th>\n",
       "      <th>beer/name</th>\n",
       "      <th>beer/beerId</th>\n",
       "      <th>beer/brewerId</th>\n",
       "      <th>beer/ABV</th>\n",
       "      <th>beer/style</th>\n",
       "      <th>review/appearance</th>\n",
       "      <th>review/aroma</th>\n",
       "      <th>review/palate</th>\n",
       "      <th>review/taste</th>\n",
       "      <th>review/overall</th>\n",
       "      <th>review/profileName</th>\n",
       "      <th>review/text</th>\n",
       "      <th>year</th>\n",
       "      <th>beer/category</th>\n",
       "      <th>new_cat</th>\n",
       "      <th>y</th>\n",
       "    </tr>\n",
       "  </thead>\n",
       "  <tbody>\n",
       "    <tr>\n",
       "      <th>0</th>\n",
       "      <td>John Harvards Fancy Lawnmower Beer</td>\n",
       "      <td>25773</td>\n",
       "      <td>1706</td>\n",
       "      <td>5.4</td>\n",
       "      <td>kï¿½lsch</td>\n",
       "      <td>1</td>\n",
       "      <td>3</td>\n",
       "      <td>1</td>\n",
       "      <td>3</td>\n",
       "      <td>4</td>\n",
       "      <td>10091</td>\n",
       "      <td>On tap the Springfield PA location billed as ...</td>\n",
       "      <td>7</td>\n",
       "      <td>5</td>\n",
       "      <td>1</td>\n",
       "      <td>5</td>\n",
       "    </tr>\n",
       "    <tr>\n",
       "      <th>1</th>\n",
       "      <td>John Harvards Fancy Lawnmower Beer</td>\n",
       "      <td>25773</td>\n",
       "      <td>1706</td>\n",
       "      <td>5.4</td>\n",
       "      <td>kï¿½lsch</td>\n",
       "      <td>1</td>\n",
       "      <td>3</td>\n",
       "      <td>1</td>\n",
       "      <td>3</td>\n",
       "      <td>4</td>\n",
       "      <td>17844</td>\n",
       "      <td>On tap at the Springfield, PA location. Poure...</td>\n",
       "      <td>7</td>\n",
       "      <td>5</td>\n",
       "      <td>1</td>\n",
       "      <td>5</td>\n",
       "    </tr>\n",
       "    <tr>\n",
       "      <th>2</th>\n",
       "      <td>John Harvards Yin Yang Lager</td>\n",
       "      <td>25774</td>\n",
       "      <td>1706</td>\n",
       "      <td>4.5</td>\n",
       "      <td>pale lager</td>\n",
       "      <td>2</td>\n",
       "      <td>4</td>\n",
       "      <td>1</td>\n",
       "      <td>4</td>\n",
       "      <td>4</td>\n",
       "      <td>17844</td>\n",
       "      <td>On tap at the Springfield, PA location. Poure...</td>\n",
       "      <td>7</td>\n",
       "      <td>0</td>\n",
       "      <td>1</td>\n",
       "      <td>5</td>\n",
       "    </tr>\n",
       "    <tr>\n",
       "      <th>3</th>\n",
       "      <td>Barley Island Sinister Minister Belgian Black...</td>\n",
       "      <td>28138</td>\n",
       "      <td>732</td>\n",
       "      <td>6.7</td>\n",
       "      <td>traditional ale</td>\n",
       "      <td>3</td>\n",
       "      <td>5</td>\n",
       "      <td>1</td>\n",
       "      <td>4</td>\n",
       "      <td>4</td>\n",
       "      <td>17916</td>\n",
       "      <td>UPDATED</td>\n",
       "      <td>9</td>\n",
       "      <td>10</td>\n",
       "      <td>4</td>\n",
       "      <td>5</td>\n",
       "    </tr>\n",
       "    <tr>\n",
       "      <th>4</th>\n",
       "      <td>Barley Island Goldilocks Belgian Blond</td>\n",
       "      <td>10488</td>\n",
       "      <td>732</td>\n",
       "      <td>7.0</td>\n",
       "      <td>belgian ale</td>\n",
       "      <td>2</td>\n",
       "      <td>3</td>\n",
       "      <td>2</td>\n",
       "      <td>3</td>\n",
       "      <td>4</td>\n",
       "      <td>1557</td>\n",
       "      <td>Had nearly 10 of their beers and this was by ...</td>\n",
       "      <td>11</td>\n",
       "      <td>4</td>\n",
       "      <td>1</td>\n",
       "      <td>4</td>\n",
       "    </tr>\n",
       "    <tr>\n",
       "      <th>...</th>\n",
       "      <td>...</td>\n",
       "      <td>...</td>\n",
       "      <td>...</td>\n",
       "      <td>...</td>\n",
       "      <td>...</td>\n",
       "      <td>...</td>\n",
       "      <td>...</td>\n",
       "      <td>...</td>\n",
       "      <td>...</td>\n",
       "      <td>...</td>\n",
       "      <td>...</td>\n",
       "      <td>...</td>\n",
       "      <td>...</td>\n",
       "      <td>...</td>\n",
       "      <td>...</td>\n",
       "      <td>...</td>\n",
       "    </tr>\n",
       "    <tr>\n",
       "      <th>168226</th>\n",
       "      <td>Terken Uberland BiÃ¨re des Flandres</td>\n",
       "      <td>3467</td>\n",
       "      <td>295</td>\n",
       "      <td>4.7</td>\n",
       "      <td>pale lager</td>\n",
       "      <td>3</td>\n",
       "      <td>4</td>\n",
       "      <td>1</td>\n",
       "      <td>3</td>\n",
       "      <td>3</td>\n",
       "      <td>1695</td>\n",
       "      <td>clear golden colour, fine head, herbal aroma,...</td>\n",
       "      <td>4</td>\n",
       "      <td>0</td>\n",
       "      <td>1</td>\n",
       "      <td>4</td>\n",
       "    </tr>\n",
       "    <tr>\n",
       "      <th>168227</th>\n",
       "      <td>Terken CleeÂs Original Special</td>\n",
       "      <td>1599</td>\n",
       "      <td>295</td>\n",
       "      <td>6.2</td>\n",
       "      <td>pale lager</td>\n",
       "      <td>2</td>\n",
       "      <td>3</td>\n",
       "      <td>1</td>\n",
       "      <td>3</td>\n",
       "      <td>3</td>\n",
       "      <td>1695</td>\n",
       "      <td>golden colour, few head, alcohol too present ...</td>\n",
       "      <td>2</td>\n",
       "      <td>0</td>\n",
       "      <td>1</td>\n",
       "      <td>4</td>\n",
       "    </tr>\n",
       "    <tr>\n",
       "      <th>168228</th>\n",
       "      <td>Terken Septante 5 Blonde</td>\n",
       "      <td>4824</td>\n",
       "      <td>295</td>\n",
       "      <td>6.2</td>\n",
       "      <td>biã¨re de garde</td>\n",
       "      <td>2</td>\n",
       "      <td>4</td>\n",
       "      <td>1</td>\n",
       "      <td>3</td>\n",
       "      <td>4</td>\n",
       "      <td>7729</td>\n",
       "      <td>(Bottle 75 cl) Fully golden with a nice, tall...</td>\n",
       "      <td>6</td>\n",
       "      <td>2</td>\n",
       "      <td>1</td>\n",
       "      <td>1</td>\n",
       "    </tr>\n",
       "    <tr>\n",
       "      <th>168229</th>\n",
       "      <td>Hereward Orange Womble</td>\n",
       "      <td>11936</td>\n",
       "      <td>745</td>\n",
       "      <td>4.5</td>\n",
       "      <td>bitter</td>\n",
       "      <td>2</td>\n",
       "      <td>4</td>\n",
       "      <td>2</td>\n",
       "      <td>4</td>\n",
       "      <td>4</td>\n",
       "      <td>20717</td>\n",
       "      <td>4th December 2007  Pigs Ear Festival, Hackney...</td>\n",
       "      <td>12</td>\n",
       "      <td>12</td>\n",
       "      <td>2</td>\n",
       "      <td>4</td>\n",
       "    </tr>\n",
       "    <tr>\n",
       "      <th>168230</th>\n",
       "      <td>Hereward Orange Womble</td>\n",
       "      <td>11936</td>\n",
       "      <td>745</td>\n",
       "      <td>4.5</td>\n",
       "      <td>bitter</td>\n",
       "      <td>3</td>\n",
       "      <td>5</td>\n",
       "      <td>2</td>\n",
       "      <td>4</td>\n",
       "      <td>4</td>\n",
       "      <td>5898</td>\n",
       "      <td>Cask at Pigs Ear BF.\\tSweet, a bit yeasty. No...</td>\n",
       "      <td>8</td>\n",
       "      <td>12</td>\n",
       "      <td>2</td>\n",
       "      <td>4</td>\n",
       "    </tr>\n",
       "  </tbody>\n",
       "</table>\n",
       "<p>168231 rows × 16 columns</p>\n",
       "</div>"
      ],
      "text/plain": [
       "                                                beer/name  beer/beerId  \\\n",
       "0                      John Harvards Fancy Lawnmower Beer        25773   \n",
       "1                      John Harvards Fancy Lawnmower Beer        25773   \n",
       "2                            John Harvards Yin Yang Lager        25774   \n",
       "3        Barley Island Sinister Minister Belgian Black...        28138   \n",
       "4                  Barley Island Goldilocks Belgian Blond        10488   \n",
       "...                                                   ...          ...   \n",
       "168226                Terken Uberland BiÃ¨re des Flandres         3467   \n",
       "168227                    Terken CleeÂs Original Special         1599   \n",
       "168228                           Terken Septante 5 Blonde         4824   \n",
       "168229                             Hereward Orange Womble        11936   \n",
       "168230                             Hereward Orange Womble        11936   \n",
       "\n",
       "        beer/brewerId  beer/ABV        beer/style  review/appearance  \\\n",
       "0                1706       5.4          kï¿½lsch                  1   \n",
       "1                1706       5.4          kï¿½lsch                  1   \n",
       "2                1706       4.5        pale lager                  2   \n",
       "3                 732       6.7   traditional ale                  3   \n",
       "4                 732       7.0       belgian ale                  2   \n",
       "...               ...       ...               ...                ...   \n",
       "168226            295       4.7        pale lager                  3   \n",
       "168227            295       6.2        pale lager                  2   \n",
       "168228            295       6.2   biã¨re de garde                  2   \n",
       "168229            745       4.5            bitter                  2   \n",
       "168230            745       4.5            bitter                  3   \n",
       "\n",
       "        review/aroma  review/palate  review/taste  review/overall  \\\n",
       "0                  3              1             3               4   \n",
       "1                  3              1             3               4   \n",
       "2                  4              1             4               4   \n",
       "3                  5              1             4               4   \n",
       "4                  3              2             3               4   \n",
       "...              ...            ...           ...             ...   \n",
       "168226             4              1             3               3   \n",
       "168227             3              1             3               3   \n",
       "168228             4              1             3               4   \n",
       "168229             4              2             4               4   \n",
       "168230             5              2             4               4   \n",
       "\n",
       "        review/profileName                                        review/text  \\\n",
       "0                    10091   On tap the Springfield PA location billed as ...   \n",
       "1                    17844   On tap at the Springfield, PA location. Poure...   \n",
       "2                    17844   On tap at the Springfield, PA location. Poure...   \n",
       "3                    17916                                            UPDATED   \n",
       "4                     1557   Had nearly 10 of their beers and this was by ...   \n",
       "...                    ...                                                ...   \n",
       "168226                1695   clear golden colour, fine head, herbal aroma,...   \n",
       "168227                1695   golden colour, few head, alcohol too present ...   \n",
       "168228                7729   (Bottle 75 cl) Fully golden with a nice, tall...   \n",
       "168229               20717   4th December 2007  Pigs Ear Festival, Hackney...   \n",
       "168230                5898   Cask at Pigs Ear BF.\\tSweet, a bit yeasty. No...   \n",
       "\n",
       "        year  beer/category  new_cat  y  \n",
       "0          7              5        1  5  \n",
       "1          7              5        1  5  \n",
       "2          7              0        1  5  \n",
       "3          9             10        4  5  \n",
       "4         11              4        1  4  \n",
       "...      ...            ...      ... ..  \n",
       "168226     4              0        1  4  \n",
       "168227     2              0        1  4  \n",
       "168228     6              2        1  1  \n",
       "168229    12             12        2  4  \n",
       "168230     8             12        2  4  \n",
       "\n",
       "[168231 rows x 16 columns]"
      ]
     },
     "execution_count": 60,
     "metadata": {},
     "output_type": "execute_result"
    }
   ],
   "source": []
  },
  {
   "cell_type": "code",
   "execution_count": 27,
   "metadata": {},
   "outputs": [],
   "source": [
    "train = X2train[['review/text', 'y']]"
   ]
  },
  {
   "cell_type": "code",
   "execution_count": 28,
   "metadata": {},
   "outputs": [
    {
     "data": {
      "text/plain": [
       "array([4, 1, 2, 5, 3])"
      ]
     },
     "execution_count": 28,
     "metadata": {},
     "output_type": "execute_result"
    }
   ],
   "source": [
    "X2train['y'].unique()"
   ]
  },
  {
   "cell_type": "code",
   "execution_count": null,
   "metadata": {},
   "outputs": [],
   "source": []
  },
  {
   "cell_type": "code",
   "execution_count": null,
   "metadata": {},
   "outputs": [],
   "source": []
  },
  {
   "cell_type": "code",
   "execution_count": null,
   "metadata": {},
   "outputs": [],
   "source": []
  },
  {
   "cell_type": "code",
   "execution_count": null,
   "metadata": {},
   "outputs": [],
   "source": []
  },
  {
   "cell_type": "code",
   "execution_count": null,
   "metadata": {},
   "outputs": [],
   "source": []
  },
  {
   "cell_type": "code",
   "execution_count": null,
   "metadata": {},
   "outputs": [],
   "source": []
  },
  {
   "cell_type": "code",
   "execution_count": null,
   "metadata": {},
   "outputs": [],
   "source": []
  },
  {
   "cell_type": "code",
   "execution_count": null,
   "metadata": {},
   "outputs": [],
   "source": []
  },
  {
   "cell_type": "markdown",
   "metadata": {},
   "source": [
    "# NLP for reveiw/text"
   ]
  },
  {
   "cell_type": "code",
   "execution_count": 43,
   "metadata": {},
   "outputs": [
    {
     "name": "stderr",
     "output_type": "stream",
     "text": [
      "[nltk_data] Downloading package punkt to\n",
      "[nltk_data]     /Users/huangzijing/nltk_data...\n",
      "[nltk_data]   Package punkt is already up-to-date!\n"
     ]
    }
   ],
   "source": [
    "import nltk\n",
    "nltk.download('punkt')\n",
    "import re\n",
    "import string\n",
    "from nltk.corpus import stopwords"
   ]
  },
  {
   "cell_type": "code",
   "execution_count": 44,
   "metadata": {},
   "outputs": [],
   "source": [
    "from sklearn.model_selection import train_test_split\n",
    "\n",
    "X = train['review/text']\n",
    "y = train['y']\n",
    "\n",
    "X_train, X_test, y_train, y_test = train_test_split(\n",
    "    X, y, test_size=0.3, random_state=42)"
   ]
  },
  {
   "cell_type": "code",
   "execution_count": 45,
   "metadata": {},
   "outputs": [],
   "source": [
    "def text_process(mess):\n",
    "    \n",
    "    nopunc = [char for char in mess if char not in string.punctuation]\n",
    "\n",
    "    nopunc = ''.join(nopunc)\n",
    "    \n",
    "    \n",
    "    return [word for word in nopunc.split() \n",
    "        if word.lower() not in stopwords.words('english')]"
   ]
  },
  {
   "cell_type": "code",
   "execution_count": null,
   "metadata": {},
   "outputs": [],
   "source": []
  },
  {
   "cell_type": "markdown",
   "metadata": {},
   "source": [
    "### grid search"
   ]
  },
  {
   "cell_type": "code",
   "execution_count": null,
   "metadata": {},
   "outputs": [],
   "source": [
    "start = datetime.datetime.now()\n",
    "\n",
    "from sklearn.feature_extraction.text import CountVectorizer\n",
    "from sklearn.feature_extraction.text import TfidfTransformer\n",
    "from sklearn.naive_bayes import MultinomialNB\n",
    "from sklearn.pipeline import Pipeline\n",
    "from sklearn.ensemble import RandomForestClassifier\n",
    "from xgboost import XGBClassifier\n",
    "\n",
    "\n",
    "\n",
    "parameters = {\n",
    "    'max_depth': [5, 10, 15, 20, 25],\n",
    "    'learning_rate': [0.01, 0.02, 0.05, 0.1, 0.15],\n",
    "    'n_estimators': [50, 100, 200, 300, 500],\n",
    "    'subsample': [0.6, 0.7, 0.8, 0.85, 0.95],\n",
    "    'colsample_bytree': [0.5, 0.6, 0.7, 0.8, 0.9],\n",
    "}\n",
    "\n",
    "pipeline = Pipeline([\n",
    "        ('bow', CountVectorizer(analyzer=text_process)),\n",
    "        ('tfidf', TfidfTransformer())])\n",
    "         #'classfier',MultinomialNB())])\n",
    "\n",
    "\n",
    "pipeline.fit(X_train, y_train)\n",
    "\n",
    "\n",
    "xlf = XGBClassifier(\n",
    "        max_depth=10,\n",
    "        learning_rate=0.1,\n",
    "        n_estimators=2000,\n",
    "        nthread=-1,\n",
    "        gamma=0,\n",
    "        colsample_bytree=0.8)\n",
    "\n",
    "\n",
    "\n",
    "gsearch = GridSearchCV(xlf, param_grid=parameters, scoring='accuracy', cv=3)\n",
    "gsearch.fit(X_train, y_train)\n",
    "\n",
    "print(\"Best score: %0.3f\" % gsearch.best_score_)\n",
    "print(\"Best parameters set:\")\n",
    "\n",
    "\n",
    "\n",
    "\n",
    "\n",
    "\n",
    "from sklearn.metrics import classification_report\n",
    "print(classification_report(y_test, predictions))\n",
    "end = datetime.datetime.now()\n",
    "print(\"time：\", end - start) "
   ]
  },
  {
   "cell_type": "markdown",
   "metadata": {},
   "source": [
    "## build model"
   ]
  },
  {
   "cell_type": "code",
   "execution_count": 46,
   "metadata": {},
   "outputs": [
    {
     "name": "stdout",
     "output_type": "stream",
     "text": [
      "              precision    recall  f1-score   support\n",
      "\n",
      "           1       0.45      0.61      0.51      5572\n",
      "           2       0.63      0.38      0.47      2565\n",
      "           3       0.53      0.47      0.50      3722\n",
      "           4       0.51      0.55      0.53      4059\n",
      "           5       0.58      0.41      0.48      2895\n",
      "\n",
      "    accuracy                           0.50     18813\n",
      "   macro avg       0.54      0.48      0.50     18813\n",
      "weighted avg       0.52      0.50      0.50     18813\n",
      "\n",
      "time： 0:56:01.241082\n"
     ]
    }
   ],
   "source": [
    "start = datetime.datetime.now()\n",
    "\n",
    "from sklearn.feature_extraction.text import CountVectorizer\n",
    "from sklearn.feature_extraction.text import TfidfTransformer\n",
    "from sklearn.naive_bayes import MultinomialNB\n",
    "from sklearn.pipeline import Pipeline\n",
    "from sklearn.ensemble import RandomForestClassifier\n",
    "from xgboost import XGBClassifier\n",
    "\n",
    "\n",
    "\n",
    "\n",
    "pipeline = Pipeline([\n",
    "        ('bow', CountVectorizer(analyzer=text_process)),\n",
    "        ('tfidf', TfidfTransformer()),\n",
    "        (#'classfier', RandomForestClassifier())])\n",
    "         'classfier',XGBClassifier(\n",
    "                        max_depth=10,\n",
    "                        learning_rate=0.1,\n",
    "                        n_estimators=2000,\n",
    "                        #silent = True,\n",
    "                        nthread=-1,\n",
    "                        gamma=0,\n",
    "                        subsample=0.85,\n",
    "                        colsample_bytree=0.8))])\n",
    "         #'classfier',MultinomialNB())])\n",
    "\n",
    "\n",
    "pipeline.fit(X_train, y_train)\n",
    "\n",
    "predictions = pipeline.predict(X_test)\n",
    "\n",
    "from sklearn.metrics import classification_report\n",
    "print(classification_report(y_test, predictions))\n",
    "end = datetime.datetime.now()\n",
    "print(\"time：\", end - start) "
   ]
  },
  {
   "cell_type": "code",
   "execution_count": 48,
   "metadata": {},
   "outputs": [
    {
     "name": "stdout",
     "output_type": "stream",
     "text": [
      "              precision    recall  f1-score   support\n",
      "\n",
      "           1       0.45      0.61      0.51      5572\n",
      "           2       0.63      0.38      0.47      2565\n",
      "           3       0.53      0.47      0.50      3722\n",
      "           4       0.51      0.55      0.53      4059\n",
      "           5       0.58      0.41      0.48      2895\n",
      "\n",
      "    accuracy                           0.50     18813\n",
      "   macro avg       0.54      0.48      0.50     18813\n",
      "weighted avg       0.52      0.50      0.50     18813\n",
      "\n"
     ]
    }
   ],
   "source": [
    "print(classification_report(y_test, predictions))"
   ]
  },
  {
   "cell_type": "code",
   "execution_count": 49,
   "metadata": {},
   "outputs": [
    {
     "ename": "ModuleNotFoundError",
     "evalue": "No module named 'wordcloud'",
     "output_type": "error",
     "traceback": [
      "\u001b[0;31m---------------------------------------------------------------------------\u001b[0m",
      "\u001b[0;31mModuleNotFoundError\u001b[0m                       Traceback (most recent call last)",
      "\u001b[0;32m<ipython-input-49-d263de54dd93>\u001b[0m in \u001b[0;36m<module>\u001b[0;34m\u001b[0m\n\u001b[1;32m      1\u001b[0m \u001b[0;32mfrom\u001b[0m \u001b[0mmatplotlib\u001b[0m \u001b[0;32mimport\u001b[0m \u001b[0mpyplot\u001b[0m \u001b[0;32mas\u001b[0m \u001b[0mplt\u001b[0m\u001b[0;34m\u001b[0m\u001b[0;34m\u001b[0m\u001b[0m\n\u001b[0;32m----> 2\u001b[0;31m \u001b[0;32mfrom\u001b[0m \u001b[0mwordcloud\u001b[0m \u001b[0;32mimport\u001b[0m \u001b[0mWordCloud\u001b[0m\u001b[0;34m,\u001b[0m \u001b[0mSTOPWORDS\u001b[0m\u001b[0;34m\u001b[0m\u001b[0;34m\u001b[0m\u001b[0m\n\u001b[0m\u001b[1;32m      3\u001b[0m \u001b[0;32mimport\u001b[0m \u001b[0mmatplotlib\u001b[0m\u001b[0;34m.\u001b[0m\u001b[0mcolors\u001b[0m \u001b[0;32mas\u001b[0m \u001b[0mmcolors\u001b[0m\u001b[0;34m\u001b[0m\u001b[0;34m\u001b[0m\u001b[0m\n\u001b[1;32m      4\u001b[0m \u001b[0;34m\u001b[0m\u001b[0m\n\u001b[1;32m      5\u001b[0m \u001b[0mcols\u001b[0m \u001b[0;34m=\u001b[0m \u001b[0;34m[\u001b[0m\u001b[0mcolor\u001b[0m \u001b[0;32mfor\u001b[0m \u001b[0mname\u001b[0m\u001b[0;34m,\u001b[0m \u001b[0mcolor\u001b[0m \u001b[0;32min\u001b[0m \u001b[0mmcolors\u001b[0m\u001b[0;34m.\u001b[0m\u001b[0mTABLEAU_COLORS\u001b[0m\u001b[0;34m.\u001b[0m\u001b[0mitems\u001b[0m\u001b[0;34m(\u001b[0m\u001b[0;34m)\u001b[0m\u001b[0;34m]\u001b[0m  \u001b[0;31m# more colors: 'mcolors.XKCD_COLORS'\u001b[0m\u001b[0;34m\u001b[0m\u001b[0;34m\u001b[0m\u001b[0m\n",
      "\u001b[0;31mModuleNotFoundError\u001b[0m: No module named 'wordcloud'"
     ]
    }
   ],
   "source": []
  },
  {
   "cell_type": "code",
   "execution_count": null,
   "metadata": {},
   "outputs": [],
   "source": []
  },
  {
   "cell_type": "code",
   "execution_count": null,
   "metadata": {},
   "outputs": [],
   "source": []
  },
  {
   "cell_type": "code",
   "execution_count": null,
   "metadata": {},
   "outputs": [],
   "source": []
  },
  {
   "cell_type": "code",
   "execution_count": null,
   "metadata": {},
   "outputs": [],
   "source": []
  },
  {
   "cell_type": "code",
   "execution_count": null,
   "metadata": {},
   "outputs": [],
   "source": []
  }
 ],
 "metadata": {
  "kernelspec": {
   "display_name": "Python 3",
   "language": "python",
   "name": "python3"
  },
  "language_info": {
   "codemirror_mode": {
    "name": "ipython",
    "version": 3
   },
   "file_extension": ".py",
   "mimetype": "text/x-python",
   "name": "python",
   "nbconvert_exporter": "python",
   "pygments_lexer": "ipython3",
   "version": "3.8.3"
  }
 },
 "nbformat": 4,
 "nbformat_minor": 4
}
